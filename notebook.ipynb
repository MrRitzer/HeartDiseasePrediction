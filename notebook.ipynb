{
 "cells": [
  {
   "cell_type": "code",
   "execution_count": 4,
   "metadata": {},
   "outputs": [],
   "source": [
    "import pandas as pd\n",
    "import matplotlib.pyplot as plt\n",
    "from sklearn.tree import DecisionTreeClassifier # Import Decision Tree Classifier\n",
    "from sklearn.model_selection import train_test_split # Import train_test_split function\n",
    "from sklearn import metrics #Import scikit-learn metrics module for accuracy calculation\n",
    "from six import StringIO\n",
    "from IPython.display import Image  \n",
    "from sklearn.tree import export_graphviz\n",
    "import pydotplus\n",
    "from random import randint"
   ]
  },
  {
   "cell_type": "code",
   "execution_count": 5,
   "metadata": {},
   "outputs": [],
   "source": [
    "headers = ['age','sex','cp','trestbps','chol','fbs','restecg','thalach','exang','oldpeak','slope','ca','thal','target']\n",
    "data = pd.read_csv('heart.csv', header=1, names=headers)"
   ]
  },
  {
   "cell_type": "code",
   "execution_count": 6,
   "metadata": {},
   "outputs": [],
   "source": [
    "features = ['age','sex','cp','trestbps','chol','fbs','restecg','thalach','exang','oldpeak','slope','ca','thal']\n",
    "X = data[features]\n",
    "y = data.target"
   ]
  },
  {
   "cell_type": "code",
   "execution_count": 7,
   "metadata": {},
   "outputs": [],
   "source": [
    "X_train, X_test, y_train, y_test = train_test_split(X, y, test_size=0.3, random_state=1) # 70% training and 30% test"
   ]
  },
  {
   "cell_type": "code",
   "execution_count": 104,
   "metadata": {},
   "outputs": [],
   "source": [
    "def runTest(criterion=\"gini\",max_depth=None,splitter=\"best\") -> tuple:\n",
    "    clf = DecisionTreeClassifier(criterion=criterion,splitter=splitter,max_depth=max_depth)\n",
    "    clf = clf.fit(X_train, y_train)\n",
    "    y_pred = clf.predict(X_test)\n",
    "    accuracy = round(metrics.accuracy_score(y_test, y_pred)*100,4)\n",
    "    return (criterion, splitter, max_depth, accuracy, clf)\n",
    "    return f\"Criterion: {criterion}, Splitter: {splitter}, Max Depth:  {max_depth}, Accuracy: {accuracy}%\""
   ]
  },
  {
   "cell_type": "code",
   "execution_count": 15,
   "metadata": {},
   "outputs": [],
   "source": [
    "def getRandInputs(ceiling=20) -> tuple:\n",
    "    max_depth = randint(1,ceiling)\n",
    "    if randint(0,1) == 1:\n",
    "        criterion = \"entropy\"\n",
    "    else:\n",
    "        criterion = \"gini\"\n",
    "    if randint(0,1) == 1:\n",
    "        splitter = \"best\"\n",
    "    else:\n",
    "        splitter = \"random\"\n",
    "    return (criterion,max_depth,splitter)"
   ]
  },
  {
   "cell_type": "code",
   "execution_count": 106,
   "metadata": {},
   "outputs": [
    {
     "data": {
      "text/plain": [
       "['Test #1 Criterion: entropy, Splitter: best, Max Depth:  6, Accuracy: 79.1209%',\n",
       " 'Test #2 Criterion: gini, Splitter: best, Max Depth:  2, Accuracy: 70.3297%',\n",
       " 'Test #3 Criterion: entropy, Splitter: best, Max Depth:  19, Accuracy: 78.022%',\n",
       " 'Test #4 Criterion: gini, Splitter: random, Max Depth:  19, Accuracy: 80.2198%',\n",
       " 'Test #5 Criterion: entropy, Splitter: best, Max Depth:  5, Accuracy: 82.4176%',\n",
       " 'Test #6 Criterion: entropy, Splitter: best, Max Depth:  7, Accuracy: 78.022%',\n",
       " 'Test #7 Criterion: gini, Splitter: best, Max Depth:  8, Accuracy: 79.1209%',\n",
       " 'Test #8 Criterion: gini, Splitter: random, Max Depth:  17, Accuracy: 80.2198%',\n",
       " 'Test #9 Criterion: gini, Splitter: random, Max Depth:  11, Accuracy: 80.2198%',\n",
       " 'Test #10 Criterion: entropy, Splitter: random, Max Depth:  6, Accuracy: 84.6154%']"
      ]
     },
     "execution_count": 106,
     "metadata": {},
     "output_type": "execute_result"
    }
   ],
   "source": [
    "results_clfs = [DecisionTreeClassifier() for _ in range(0,10)]\n",
    "results_strs = ['' for _ in range(0,10)]\n",
    "results_vals = [0 for _ in range(0,10)]\n",
    "i = 0\n",
    "while i < 10:\n",
    "    inputs = getRandInputs()\n",
    "    j = 0\n",
    "    while j < 10:\n",
    "        result = runTest(criterion=inputs[0],max_depth=inputs[1],splitter=inputs[2])\n",
    "        if result[3] > results_vals[i]:\n",
    "            results_vals[i] = result[3]\n",
    "            results_strs[i] = f\"Test #{i+1} Criterion: {result[0]}, Splitter: {result[1]}, Max Depth:  {result[2]}, Accuracy: {result[3]}%\"\n",
    "            results_clfs[i] = result[4]\n",
    "        j += 1\n",
    "    dot_data = StringIO()\n",
    "    export_graphviz(results_clfs[i], out_file=dot_data, filled=True, rounded=True, special_characters=True, feature_names = features,class_names=['0','1'])\n",
    "    graph = pydotplus.graph_from_dot_data(dot_data.getvalue())\n",
    "    graph.write_png(f'images/heart_disease_test_{i+1}.png')\n",
    "    i += 1\n",
    "results_strs"
   ]
  },
  {
   "cell_type": "code",
   "execution_count": 88,
   "metadata": {},
   "outputs": [
    {
     "name": "stdout",
     "output_type": "stream",
     "text": [
      "Accuracy: 76.9231%\n"
     ]
    }
   ],
   "source": [
    "clf = DecisionTreeClassifier(criterion=\"entropy\", max_depth=10, splitter=\"random\")\n",
    "clf = clf.fit(X_train,y_train)\n",
    "y_pred = clf.predict(X_test)\n",
    "accuracy = round(metrics.accuracy_score(y_test, y_pred)*100,4)\n",
    "print(f\"Accuracy: {accuracy}%\")"
   ]
  },
  {
   "cell_type": "code",
   "execution_count": 89,
   "metadata": {},
   "outputs": [
    {
     "data": {
      "text/plain": [
       "True"
      ]
     },
     "execution_count": 89,
     "metadata": {},
     "output_type": "execute_result"
    }
   ],
   "source": [
    "dot_data = StringIO()\n",
    "export_graphviz(clf, out_file=dot_data, filled=True, rounded=True, special_characters=True, feature_names = features,class_names=['0','1'])\n",
    "graph = pydotplus.graph_from_dot_data(dot_data.getvalue())  \n",
    "graph.write_png('heart_disease.png')\n",
    "# Image(graph.create_png())"
   ]
  },
  {
   "cell_type": "markdown",
   "metadata": {},
   "source": []
  }
 ],
 "metadata": {
  "kernelspec": {
   "display_name": "Python 3.10.6 ('env': venv)",
   "language": "python",
   "name": "python3"
  },
  "language_info": {
   "codemirror_mode": {
    "name": "ipython",
    "version": 3
   },
   "file_extension": ".py",
   "mimetype": "text/x-python",
   "name": "python",
   "nbconvert_exporter": "python",
   "pygments_lexer": "ipython3",
   "version": "3.10.6"
  },
  "orig_nbformat": 4,
  "vscode": {
   "interpreter": {
    "hash": "55d862b8939736cc54d18da9b76fde14856984d798f9c1d0b56ecd5889d3dc3f"
   }
  }
 },
 "nbformat": 4,
 "nbformat_minor": 2
}

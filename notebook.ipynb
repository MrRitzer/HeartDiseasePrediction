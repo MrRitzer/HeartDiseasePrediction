{
 "cells": [
  {
   "cell_type": "code",
   "execution_count": 57,
   "metadata": {},
   "outputs": [],
   "source": [
    "import pandas as pd\n",
    "import dataframe_image as dfi\n",
    "import numpy as np\n",
    "import matplotlib.pyplot as plt\n",
    "from sklearn.tree import DecisionTreeClassifier\n",
    "from sklearn.model_selection import train_test_split\n",
    "from sklearn import metrics\n",
    "from six import StringIO\n",
    "from IPython.display import Image  \n",
    "from sklearn.tree import export_graphviz\n",
    "import pydotplus\n",
    "from random import randint"
   ]
  },
  {
   "cell_type": "code",
   "execution_count": 16,
   "metadata": {},
   "outputs": [],
   "source": [
    "headers = ['age','sex','cp','trestbps','chol','fbs','restecg','thalach','exang','oldpeak','slope','ca','thal','target']\n",
    "data = pd.read_csv('heart.csv', header=0, names=headers)"
   ]
  },
  {
   "cell_type": "code",
   "execution_count": 17,
   "metadata": {},
   "outputs": [],
   "source": [
    "features = ['age','sex','cp','trestbps','chol','fbs','restecg','thalach','exang','oldpeak','slope','ca','thal']\n",
    "X = data[features]\n",
    "y = data.target"
   ]
  },
  {
   "cell_type": "code",
   "execution_count": 18,
   "metadata": {},
   "outputs": [],
   "source": [
    "X_train, X_test, y_train, y_test = train_test_split(X, y, test_size=0.3, random_state=1) # 70% training and 30% test"
   ]
  },
  {
   "cell_type": "code",
   "execution_count": 19,
   "metadata": {},
   "outputs": [],
   "source": [
    "def runTest(criterion=\"gini\",max_depth=None,splitter=\"best\") -> tuple:\n",
    "    clf = DecisionTreeClassifier(criterion=criterion,splitter=splitter,max_depth=max_depth)\n",
    "    clf = clf.fit(X_train, y_train)\n",
    "    y_pred = clf.predict(X_test)\n",
    "    accuracy = round(metrics.accuracy_score(y_test, y_pred)*100,4)\n",
    "    return (criterion, splitter, max_depth, accuracy, clf)\n",
    "    return f\"Criterion: {criterion}, Splitter: {splitter}, Max Depth:  {max_depth}, Accuracy: {accuracy}%\""
   ]
  },
  {
   "cell_type": "code",
   "execution_count": 25,
   "metadata": {},
   "outputs": [],
   "source": [
    "def getRandInputs(ceiling=20) -> tuple:\n",
    "    max_depth = randint(1,ceiling)\n",
    "    if randint(0,1) == 1:\n",
    "        criterion = \"entropy\"\n",
    "    else:\n",
    "        criterion = \"gini\"\n",
    "    if randint(0,1) == 1:\n",
    "        splitter = \"best\"\n",
    "    else:\n",
    "        splitter = \"random\"\n",
    "    return (criterion,max_depth,splitter)"
   ]
  },
  {
   "cell_type": "code",
   "execution_count": 34,
   "metadata": {},
   "outputs": [
    {
     "data": {
      "text/plain": [
       "['Test #1 Criterion: entropy, Splitter: random, Max Depth:  3, Accuracy: 71.4286%',\n",
       " 'Test #2 Criterion: entropy, Splitter: best, Max Depth:  20, Accuracy: 73.6264%',\n",
       " 'Test #3 Criterion: gini, Splitter: random, Max Depth:  16, Accuracy: 74.7253%',\n",
       " 'Test #4 Criterion: gini, Splitter: best, Max Depth:  18, Accuracy: 73.6264%',\n",
       " 'Test #5 Criterion: entropy, Splitter: best, Max Depth:  3, Accuracy: 73.6264%',\n",
       " 'Test #6 Criterion: gini, Splitter: random, Max Depth:  7, Accuracy: 72.5275%',\n",
       " 'Test #7 Criterion: entropy, Splitter: random, Max Depth:  13, Accuracy: 72.5275%',\n",
       " 'Test #8 Criterion: entropy, Splitter: best, Max Depth:  20, Accuracy: 72.5275%',\n",
       " 'Test #9 Criterion: entropy, Splitter: random, Max Depth:  17, Accuracy: 76.9231%',\n",
       " 'Test #10 Criterion: entropy, Splitter: random, Max Depth:  14, Accuracy: 74.7253%']"
      ]
     },
     "execution_count": 34,
     "metadata": {},
     "output_type": "execute_result"
    }
   ],
   "source": [
    "results_clfs = [DecisionTreeClassifier() for _ in range(0,10)]\n",
    "results_strs = ['' for _ in range(0,10)]\n",
    "results_vals = [0 for _ in range(0,10)]\n",
    "results_tbl = [[] for _ in range(0,10)]\n",
    "i = 0\n",
    "while i < 10:\n",
    "    inputs = getRandInputs()\n",
    "    j = 0\n",
    "    while j < 10:\n",
    "        result = runTest(criterion=inputs[0],max_depth=inputs[1],splitter=inputs[2])\n",
    "        if result[3] > results_vals[i]:\n",
    "            results_vals[i] = result[3]\n",
    "            results_strs[i] = f\"Test #{i+1} Criterion: {result[0]}, Splitter: {result[1]}, Max Depth:  {result[2]}, Accuracy: {result[3]}%\"\n",
    "            results_clfs[i] = result[4]\n",
    "            results_tbl[i] = [i+1,result[0],result[1],result[2],result[3]]\n",
    "        j += 1\n",
    "    dot_data = StringIO()\n",
    "    export_graphviz(results_clfs[i], out_file=dot_data, filled=True, rounded=True, special_characters=True, feature_names = features,class_names=['0','1'])\n",
    "    graph = pydotplus.graph_from_dot_data(dot_data.getvalue())\n",
    "    graph.write_png(f'images/heart_disease_test_{i+1}.png')\n",
    "    i += 1\n",
    "results_strs"
   ]
  },
  {
   "cell_type": "code",
   "execution_count": 61,
   "metadata": {},
   "outputs": [],
   "source": [
    "results_headers = {0: \"Test #\",1: \"Criterion\",2: \"Splitter\",3: \"Max Depth\", 4: 'Accuracy'}\n",
    "results_df = pd.DataFrame(list(map(np.ravel, results_tbl)))\n",
    "results_df.rename(columns=results_headers,inplace=True)\n",
    "results_df.set_index('Test #',inplace=True)"
   ]
  },
  {
   "cell_type": "code",
   "execution_count": 62,
   "metadata": {},
   "outputs": [
    {
     "name": "stderr",
     "output_type": "stream",
     "text": [
      "objc[39618]: Class WebSwapCGLLayer is implemented in both /System/Library/Frameworks/WebKit.framework/Versions/A/Frameworks/WebCore.framework/Versions/A/Frameworks/libANGLE-shared.dylib (0x2476f32e0) and /Applications/Brave Browser.app/Contents/Frameworks/Brave Browser Framework.framework/Versions/107.1.45.113/Libraries/libGLESv2.dylib (0x10dcd40d8). One of the two will be used. Which one is undefined.\n",
      "[1028/203529.740366:INFO:headless_shell.cc(657)] Written to file /var/folders/dx/3d5b40x125j2tmc2qnbmzg7c0000gn/T/tmp4blfykhj/temp.png.\n"
     ]
    }
   ],
   "source": [
    "dfi.export(results_df,'images/heart_disease_table.png')"
   ]
  },
  {
   "cell_type": "code",
   "execution_count": 28,
   "metadata": {},
   "outputs": [
    {
     "data": {
      "text/plain": [
       "<AxesSubplot: >"
      ]
     },
     "execution_count": 28,
     "metadata": {},
     "output_type": "execute_result"
    },
    {
     "data": {
      "image/png": "[encoded data removed]",
      "text/plain": [
       "<Figure size 640x480 with 1 Axes>"
      ]
     },
     "metadata": {},
     "output_type": "display_data"
    }
   ],
   "source": [
    "data.age.hist()"
   ]
  },
  {
   "cell_type": "code",
   "execution_count": 31,
   "metadata": {},
   "outputs": [
    {
     "data": {
      "text/plain": [
       "<AxesSubplot: >"
      ]
     },
     "execution_count": 31,
     "metadata": {},
     "output_type": "execute_result"
    },
    {
     "data": {
      "image/png": "[encoded data removed]",
      "text/plain": [
       "<Figure size 640x480 with 1 Axes>"
      ]
     },
     "metadata": {},
     "output_type": "display_data"
    }
   ],
   "source": [
    "data.sex.hist()"
   ]
  },
  {
   "cell_type": "code",
   "execution_count": 32,
   "metadata": {},
   "outputs": [
    {
     "data": {
      "text/plain": [
       "<AxesSubplot: >"
      ]
     },
     "execution_count": 32,
     "metadata": {},
     "output_type": "execute_result"
    },
    {
     "data": {
      "image/png": "[encoded data removed]",
      "text/plain": [
       "<Figure size 640x480 with 1 Axes>"
      ]
     },
     "metadata": {},
     "output_type": "display_data"
    }
   ],
   "source": [
    "data.cp.hist()"
   ]
  },
  {
   "cell_type": "markdown",
   "metadata": {},
   "source": []
  }
 ],
 "metadata": {
  "kernelspec": {
   "display_name": "Python 3.10.6 ('env': venv)",
   "language": "python",
   "name": "python3"
  },
  "language_info": {
   "codemirror_mode": {
    "name": "ipython",
    "version": 3
   },
   "file_extension": ".py",
   "mimetype": "text/x-python",
   "name": "python",
   "nbconvert_exporter": "python",
   "pygments_lexer": "ipython3",
   "version": "3.10.6"
  },
  "orig_nbformat": 4,
  "vscode": {
   "interpreter": {
    "hash": "55d862b8939736cc54d18da9b76fde14856984d798f9c1d0b56ecd5889d3dc3f"
   }
  }
 },
 "nbformat": 4,
 "nbformat_minor": 2
}
